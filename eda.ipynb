{
 "cells": [
  {
   "cell_type": "markdown",
   "metadata": {},
   "source": [
    "# EDA"
   ]
  },
  {
   "cell_type": "code",
   "execution_count": 1,
   "metadata": {},
   "outputs": [],
   "source": [
    "import pandas as pd"
   ]
  },
  {
   "cell_type": "code",
   "execution_count": 5,
   "metadata": {},
   "outputs": [
    {
     "name": "stdout",
     "output_type": "stream",
     "text": [
      "608\n",
      "['Eubacterium_rectale', 'Akkermansia_muciniphila', 'Faecalibacterium_prausnitzii', 'Alistipes_indistinctus', 'Alistipes_putredinis', 'Prevotella_copri', 'Bacteroides_ovatus', 'Bacteroides_cellulosilyticus', 'Eubacterium_biforme', 'Bacteroides_stercoris', 'Bifidobacterium_adolescentis', 'Odoribacter_splanchnicus', 'Eubacterium_siraeum', 'Bacteroides_vulgatus', 'Lachnospiraceae_bacterium_1_1_57FAA', 'Parabacteroides_merdae', 'Prevotella_stercorea', 'Bacteroides_caccae', 'Subdoligranulum_unclassified', 'Bacteroides_fragilis', 'Bacteroidales_bacterium_ph8', 'Bilophila_unclassified', 'Ruminococcus_torques', 'Parabacteroides_unclassified', 'Alistipes_onderdonkii', 'Catenibacterium_mitsuokai', 'Oscillibacter_unclassified', 'Butyricimonas_synergistica', 'Bacteroides_thetaiotaomicron', 'Collinsella_aerofaciens', 'Bacteroides_massiliensis', 'Alistipes_sp_AP11', 'Parasutterella_excrementihominis', 'Ruminococcus_obeum', 'Bifidobacterium_bifidum', 'Dorea_formicigenerans', 'Alistipes_shahii', 'Alistipes_finegoldii', 'Oscillibacter_sp_KLE_1745', 'Bacteroides_uniformis', 'Coprococcus_comes', 'Bacteroides_xylanisolvens', 'Methanobrevibacter_smithii', 'Streptococcus_salivarius', 'Eubacterium_hallii', 'Escherichia_coli', 'Bacteroides_nordii', 'Parabacteroides_goldsteinii', 'Coprococcus_catus', 'Bifidobacterium_longum', 'Dorea_longicatena', 'Anaerotruncus_unclassified', 'Bacteroides_faecis', 'Bilophila_wadsworthia', 'Alistipes_senegalensis', 'Desulfovibrio_desulfuricans', 'Clostridium_leptum', 'Eubacterium_ramulus', 'Eubacterium_eligens', 'Pyramidobacter_piscolens', 'Bacteroides_intestinalis', 'Bifidobacterium_pseudocatenulatum', 'Adlercreutzia_equolifaciens', 'Lachnospiraceae_bacterium_5_1_63FAA', 'Roseburia_hominis', 'Roseburia_inulinivorans', 'Lachnospiraceae_bacterium_3_1_46FAA', 'Holdemania_filiformis', 'Anaerotruncus_colihominis', 'Lachnospiraceae_bacterium_7_1_58FAA', 'Anaerostipes_hadrus', 'Roseburia_unclassified', 'Burkholderiales_bacterium_1_1_47', 'Megasphaera_unclassified', 'Streptococcus_parasanguinis', 'Parabacteroides_distasonis', 'Ruminococcus_flavefaciens', 'Peptostreptococcaceae_noname_unclassified', 'Ruminococcus_gnavus', 'Dorea_unclassified', 'Clostridium_asparagiforme', 'Lachnospiraceae_bacterium_3_1_57FAA_CT1', 'Clostridium_citroniae', 'Oxalobacter_formigenes', 'Escherichia_unclassified', 'Klebsiella_pneumoniae', 'Mitsuokella_unclassified', 'Clostridium_innocuum', 'Haemophilus_parainfluenzae', 'Clostridium_bolteae', 'Flavonifractor_plautii', 'Eubacterium_ventriosum', 'Streptococcus_infantis', 'Ruminococcus_albus', 'Clostridium_symbiosum', 'Ruminococcus_bromii', 'Veillonella_unclassified', 'Bifidobacterium_catenulatum', 'Clostridium_hathewayi', 'Eggerthella_unclassified', 'Bacteroides_plebeius', 'Streptococcus_australis', 'Bacteroides_oleiciplenus', 'Bacteroides_eggerthii', 'Clostridium_bartlettii', 'Subdoligranulum_variabile', 'Candidatus_Zinderia_insecticola', 'Megamonas_unclassified', 'Bacteroides_coprophilus', 'Megamonas_hypermegale', 'Megamonas_rupellensis', 'Bacteroides_finegoldii', 'Roseburia_intestinalis', 'Ruminococcus_lactaris', 'Megamonas_funiformis', 'Coprobacter_fastidiosus', 'Ruminococcus_sp_5_1_39BFAA', 'Desulfovibrio_piger', 'Methanobrevibacter_unclassified', 'Bacteroides_dorei', 'Citrobacter_freundii', 'Ruminococcaceae_bacterium_D16', 'Clostridiaceae_bacterium_JC118', 'Citrobacter_unclassified', 'Veillonella_parvula', 'Clostridiales_bacterium_1_7_47FAA', 'Acidaminococcus_intestini', 'Streptococcus_vestibularis', 'Parabacteroides_johnsonii', 'Enterobacter_cloacae', 'Streptococcus_mitis_oralis_pneumoniae', 'Pseudoflavonifractor_capillosus', 'Gemella_unclassified', 'Lachnospiraceae_bacterium_2_1_58FAA', 'Streptococcus_anginosus', 'Veillonella_dispar', 'Coprococcus_eutactus', 'Veillonella_atypica', 'Bacteroides_salyersiae', 'Streptococcus_infantarius', 'Coprobacillus_sp_29_1', 'Bacteroides_coprocola', 'Weissella_unclassified', 'Weissella_confusa', 'Bacteroides_clarus', 'Ruminococcus_callidus', 'Pantoea_unclassified', 'Streptococcus_thermophilus', 'Granulicatella_unclassified', 'Dialister_invisus', 'Helicobacter_pullorum', 'Streptococcus_tigurinus', 'Weissella_cibaria', 'Lactococcus_lactis', 'Streptococcus_gordonii', 'Burkholderia_unclassified', 'Streptococcus_cristatus', 'Lactococcus_garvieae', 'Rothia_mucilaginosa', 'Lactobacillus_plantarum', 'Gemella_sanguinis', 'Escherichia_fergusonii', 'Actinobacillus_unclassified', 'Lactobacillus_brevis', 'Granulicatella_adiacens', 'Slackia_piriformis', 'Atopobium_parvulum', 'Bifidobacterium_dentium', 'Campylobacter_gracilis', 'Gemella_morbillorum', 'Clostridium_ramosum', 'Gardnerella_vaginalis', 'Gemella_haemolysans', 'Rothia_unclassified', 'Klebsiella_variicola', 'Oribacterium_sinus', 'Streptococcus_sanguinis', 'Dialister_succinatiphilus', 'Klebsiella_oxytoca', 'Enterobacter_aerogenes', 'Bacteroides_sp_3_1_19', 'Fusobacterium_mortiferum', 'Sutterella_wadsworthensis', 'Collinsella_tanakaei', 'Neisseria_unclassified', 'Lachnospiraceae_bacterium_1_4_56FAA', 'Coriobacteriaceae_bacterium_phI', 'Cellulophaga_unclassified', 'Coprobacillus_unclassified', 'Deinococcus_unclassified', 'Solobacterium_moorei', 'Lachnospiraceae_bacterium_9_1_43BFAA', 'Comamonas_unclassified', 'Lachnospiraceae_bacterium_6_1_63FAA', 'Abiotrophia_defectiva', 'Gordonibacter_pamelaeae', 'Clostridium_sp_ATCC_BAA_442', 'Subdoligranulum_sp_4_3_54A2FAA', 'Clostridium_hiranonis', 'Barnesiella_intestinihominis', 'Holdemania_unclassified', 'Butyrivibrio_unclassified', 'Prevotella_buccalis', 'Porphyromonas_bennonis', 'Campylobacter_hominis', 'candidate_division_TM7_single_cell_isolate_TM7c', 'Erysipelotrichaceae_bacterium_6_1_45', 'Erysipelotrichaceae_bacterium_21_3', 'Alloprevotella_unclassified', 'candidate_division_TM7_single_cell_isolate_TM7b', 'Eubacterium_limosum', 'Porphyromonas_asaccharolytica', 'Clostridium_sp_L2_50', 'Alistipes_unclassified', 'Odoribacter_unclassified', 'Mitsuokella_multacida', 'Acidaminococcus_fermentans', 'Lachnospiraceae_bacterium_5_1_57FAA', 'Eggerthella_lenta', 'Eubacterium_dolichum', 'Clostridium_clostridioforme', 'Shigella_flexneri', 'Scardovia_unclassified', 'Bifidobacterium_breve', 'Fusobacterium_varium', 'Olsenella_unclassified', 'Scardovia_wiggsiae', 'Eubacterium_sp_3_1_31', 'Enterobacteria_phage_HK544', 'Enterococcus_faecalis', 'Fusobacterium_ulcerans', 'Erysipelotrichaceae_bacterium_5_2_54FAA', 'Klebsiella_unclassified', 'Megasphaera_micronuciformis', 'Pseudomonas_unclassified', 'Blautia_producta', 'Clostridium_hylemonae', 'Plesiomonas_shigelloides', 'Prevotella_bivia', 'Anaerostipes_unclassified', 'Chlorobium_phaeobacteroides', 'Fusobacterium_periodonticum', 'Erysipelotrichaceae_bacterium_2_2_44A', 'Clostridium_scindens', 'Collinsella_intestinalis', 'Clostridium_nexile', 'Streptococcus_gallolyticus', 'Collinsella_unclassified', 'Lachnospiraceae_bacterium_4_1_37FAA', 'Blautia_hansenii', 'Parvimonas_unclassified', 'Eubacterium_brachy', 'Eubacterium_infirmum', 'Acidaminococcus_unclassified', 'Lachnospiraceae_bacterium_8_1_57FAA', 'Dasheen_mosaic_virus', 'Leuconostoc_lactis', 'Enterococcus_faecium', 'Alternanthera_yellow_vein_betasatellite', 'Clostridium_celatum', 'Streptococcus_macedonicus', 'Actinomyces_odontolyticus', 'Actinomyces_graevenitzii', 'Atopobium_rimae', 'Granulicatella_elegans', 'Erysipelotrichaceae_bacterium_3_1_53', 'Turicibacter_sanguinis', 'Streptococcus_lutetiensis', 'Coprococcus_sp_ART55_1', 'Clostridium_perfringens', 'Clostridium_sordellii', 'Lactobacillus_fermentum', 'Haemophilus_haemolyticus', 'Klebsiella_phage_JD001', 'Enterobacteria_phage_HK97', 'Haemophilus_paraphrohaemolyticus', 'Turicibacter_unclassified', 'Aggregatibacter_segnis', 'Lactobacillus_crispatus', 'Haemophilus_sputorum', 'Fusobacterium_nucleatum', 'Aggregatibacter_aphrophilus', 'Peptostreptococcus_unclassified', 'Neisseria_sicca', 'Streptococcus_oligofermentans', 'Neisseria_macacae', 'Peptostreptococcus_stomatis', 'Propionibacterium_propionicum', 'Lautropia_mirabilis', 'Cellulosilyticum_lentocellum', 'Streptococcus_pasteurianus', 'Clostridium_butyricum', 'Megasphaera_elsdenii', 'Paraprevotella_unclassified', 'Paraprevotella_clara', 'Paraprevotella_xylaniphila', 'Blautia_hydrogenotrophica', 'Butyricicoccus_pullicaecorum', 'Clostridium_difficile', 'Phascolarctobacterium_succinatutens', 'Succinatimonas_hippei', 'Human_adenovirus_D', 'Bacteroides_barnesiae', 'Bacteroides_sp_2_1_22', 'Coprobacillus_sp_D6', 'Holdemania_sp_AP2', 'Bacteroides_fluxus', 'Anaerofustis_stercorihominis', 'Anaerostipes_caccae', 'Ruminococcus_champanellensis', 'Methanosphaera_stadtmanae', 'Finegoldia_magna', 'Porphyromonas_uenonis', 'Lactobacillus_ruminis', 'Bacillus_cereus_thuringiensis', 'Shigella_sonnei', 'Leuconostoc_unclassified', 'Cronobacter_sakazakii', 'Porcine_type_C_oncovirus', 'Lachnospiraceae_bacterium_2_1_46FAA', 'Bifidobacterium_animalis', 'Enhydrobacter_aerosaccus', 'Lactobacillus_salivarius', 'Acinetobacter_unclassified', 'Lactobacillus_mucosae', 'Acinetobacter_junii', 'Acinetobacter_parvus', 'Cupriavidus_unclassified', 'Streptococcus_pseudopneumoniae', 'Bacteroidetes_oral_taxon_274', 'Alistipes_sp_HGB5', 'Enterobacter_hormaechei', 'Streptococcus_mutans', 'Vibrio_phage_pYD38_A', 'Prevotella_timonensis', 'Mycoplasma_bovis', 'Klebsiella_sp_MS_92_3', 'Chicken_anemia_virus', 'Enterococcus_asini', 'Prevotella_melaninogenica', 'Prevotella_histicola', 'Butyrivibrio_crossotus', 'Pedobacter_unclassified', 'Granulicella_unclassified', 'Yersinia_unclassified', 'Bacteroides_sp_4_3_47FAA', 'Eubacterium_cylindroides', 'Prevotella_disiens', 'Leuconostoc_citreum', 'Shigella_phage_Sf6', 'Enterococcus_avium', 'Citrobacter_koseri', 'Halomonas_unclassified', 'Clostridium_sp_KLE_1755', 'Cetobacterium_somerae', 'Proteus_unclassified', 'Proteus_penneri', 'Proteus_mirabilis', 'Aggregatibacter_unclassified', 'Neisseria_elongata', 'Lactobacillus_delbrueckii', 'Corynebacterium_durum', 'Lactobacillus_farciminis', 'Prevotella_buccae', 'Enterococcus_raffinosus', 'Clostridium_methylpentosum', 'Lactobacillus_casei_paracasei', 'Atopobium_vaginae', 'Dysgonomonas_mossii', 'Enterobacteria_phage_mEp237', 'Prevotella_oralis', 'Olsenella_uli', 'Lactobacillus_phage_PL_1', 'Anaeroglobus_geminatus', 'Streptococcus_agalactiae', 'Lactobacillus_vaginalis', 'Lactobacillus_gasseri', 'Aeromonas_veronii', 'Sutterella_parvirubra', 'Bartonella_unclassified', 'Eubacterium_saphenum', 'Brevibacterium_unclassified', 'Cronobacter_malonaticus', 'Lactobacillus_curvatus', 'Lactobacillus_acidophilus', 'Lactobacillus_amylovorus', 'Bulleidia_extructa', 'Streptococcus_intermedius', 'Fusobacterium_necrophorum', 'Actinomyces_turicensis', 'Streptococcus_dysgalactiae', 'Prevotella_amnii', 'Lactobacillus_saerimneri', 'Alloscardovia_omnicolens', 'Brachyspira_unclassified', 'Bilophila_sp_4_1_30', 'Klebsiella_phage_KP36', 'Clostridium_sp_D5', 'Klebsiella_phage_KP34', 'Tomato_yellow_leaf_curl_China_betasatellite', 'Streptococcus_pyogenes', 'Pyrococcus_yayanosii', 'Thermococcus_unclassified', 'Bacteroides_sp_3_1_40A', 'Aeromonas_hydrophila', 'Pseudomonas_aeruginosa', 'Aeromonas_unclassified', 'Campylobacter_concisus', 'Streptococcus_constellatus', 'Lachnospiraceae_bacterium_ICM7', 'Morganella_morganii', 'Enterobacter_asburiae', 'Raoultella_ornithinolytica', 'Enterobacter_mori', 'Brevibacillus_borstelensis', 'Bacteroides_pectinophilus', 'Salmonella_phage_Vi_II_E1', 'Malvastrum_leaf_curl_Philippines_betasatellite', 'Vicia_cryptic_virus', 'Walleye_dermal_sarcoma_virus', 'Lactobacillus_oris', 'Parascardovia_denticolens', 'Rothia_dentocariosa', 'Clostridium_glycolicum', 'Pseudoramibacter_alactolyticus', 'Slackia_unclassified', 'Enterococcus_pallens', 'Enterococcus_casseliflavus', 'Enterococcus_gallinarum', 'Actinomyces_viscosus', 'Peptoniphilus_lacrimalis', 'Lactobacillus_equicursoris', 'Cryptobacterium_curtum', 'Lactobacillus_rhamnosus', 'Odoribacter_laneus', 'Saccharomyces_cerevisiae', 'Emilia_yellow_vein_virus_associated_DNA_beta', 'Enterobacteria_phage_PsP3', 'Streptococcus_parauberis', 'Neisseria_flavescens', 'Spiribacter_unclassified', 'Pediococcus_unclassified', 'Parvimonas_micra', 'Tomato_yellow_leaf_curl_Vietnam_virus_satellite_DNA_beta', 'Lactobacillus_johnsonii', 'Parabacteroides_sp_20_3', 'Bacteroides_gallinarum', 'Actinomyces_cardiffensis', 'Porphyromonas_gingivalis', 'Fretibacterium_fastidiosum', 'Avian_endogenous_retrovirus_EAV_HP', 'Human_herpesvirus_4', 'Leuconostoc_mesenteroides', 'Pseudoalteromonas_haloplanktis', 'Porphyromonas_somerae', 'Peptostreptococcus_anaerobius', 'Anaerococcus_vaginalis', 'Anaerococcus_lactolyticus', 'Brachybacterium_unclassified', 'Meiothermus_silvanus', 'Lactobacillus_phage_Lc_Nu', 'Lactobacillus_iners', 'Lactobacillus_helveticus', 'Ruminococcus_sp_JC304', 'Pseudoalteromonas_undina', 'Streptococcus_peroris', 'Eggerthia_catenaformis', 'Sida_yellow_vein_virus_satellite_DNA_beta', 'Synergistes_sp_3_1_syn1', 'Peptoniphilus_harei', 'Anaerococcus_obesiensis', 'Clostridium_sp_7_2_43FAA', 'Bifidobacterium_pseudolongum', 'Honeysuckle_yellow_vein_betasatellite', 'Naumovozyma_unclassified', 'Serratia_marcescens', 'Atopobium_minutum', 'Dysgonomonas_unclassified', 'Limnohabitans_unclassified', 'Polaromonas_unclassified', 'Clostridiales_genomosp_BVAB3', 'C2likevirus_unclassified', 'Halomonas_boliviensis', 'Xanthomonas_axonopodis', 'Xanthomonas_fuscans', 'Xanthomonas_citri', 'Viunalikevirus_unclassified', 'Helicobacter_pylori', 'Neisseria_subflava', 'Neisseria_meningitidis', 'Brachyspira_pilosicoli', 'Honeysuckle_yellow_vein_mosaic_disease_associated_satellite_DNA_beta', 'Escherichia_albertii', 'Vernonia_yellow_vein_Fujian_virus_betasatellite', 'Clostridium_spiroforme', 'Slackia_exigua', 'Sphingopyxis_unclassified', 'Microlunatus_phosphovorus', 'Nocardioides_unclassified', 'Paracoccus_unclassified', 'Kocuria_unclassified', 'Sphingobium_unclassified', 'Paracoccus_denitrificans', 'Shinella_zoogloeoides', 'Pseudoxanthomonas_unclassified', 'Mesorhizobium_unclassified', 'Riemerella_unclassified', 'Variovorax_unclassified', 'Brevundimonas_unclassified', 'Sphingobacterium_unclassified', 'Caulobacter_unclassified', 'Kocuria_rhizophila', 'Citromicrobium_unclassified', 'Leucobacter_unclassified', 'Rhodanobacter_unclassified', 'Haemophilus_pittmaniae', 'Leifsonia_unclassified', 'Agromyces_unclassified', 'Actinomyces_oris', 'Brevibacterium_casei', 'Bacillus_phage_phiNIT1', 'Enterobacteria_phage_SfV', 'Pseudomonas_fragi', 'Rhodopirellula_unclassified', 'Enterobacteriaceae_bacterium_9_2_54FAA', 'Bacteroides_sp_3_2_5', 'Veillonella_sp_3_1_44', 'Staphylococcus_aureus', 'Streptococcus_sobrinus', 'Stomatobaculum_longum', 'Rothia_aeria', 'Lachnospiraceae_bacterium_oral_taxon_082', 'Actinomyces_johnsonii', 'Clostridium_bifermentans', 'Actinomyces_naeslundii', 'Selenomonas_noxia', 'Actinomyces_massiliensis', 'Staphylococcus_xylosus', 'Selenomonas_flueggei', 'Weissella_paramesenteroides', 'Lachnoanaerobaculum_saburreum', 'Leptotrichia_unclassified', 'Alloprevotella_tannerae', 'Buchnera_aphidicola', 'Porphyromonas_endodontalis', 'Chromobacterium_unclassified', 'Clostridium_phage_phiCP26F', 'Clostridium_phage_phiCP39_O', 'Salmonella_phage_HK620', 'Leuconostoc_kimchii', 'Haemophilus_parahaemolyticus', 'Shewanella_unclassified', 'Haemophilus_influenzae', 'Pediococcus_pentosaceus', 'Tropheryma_whipplei', 'Vibrio_furnissii', 'Rheinheimera_unclassified', 'Zunongwangia_profunda', 'Alicyclobacillus_pohliae', 'Vibrio_kanaloae', 'Fusobacterium_gonidiaformans', 'Varibaculum_cambriense', 'Campylobacter_ureolyticus', 'Lactobacillus_pentosus', 'Shigella_phage_pSf_1', 'Olsenella_sp_oral_taxon_809', 'Lactobacillus_phage_Lrm1', 'T5likevirus_unclassified', 'Bacteroides_sp_2_1_56FAA', 'Veillonella_ratti', 'Salmonella_phage_SSU5', 'Actinomyces_sp_ICM47', 'Staphylococcus_phage_PVL', 'Kingella_unclassified', 'Olsenella_profusa', 'Prevotella_oris', 'Prevotella_salivae', 'Peptoniphilus_sp_oral_taxon_836', 'Coriobacteriaceae_bacterium_BV3Ac1', 'Mobiluncus_unclassified', 'Corynebacterium_aurimucosum', 'Mobiluncus_curtisii', 'Peptoniphilus_duerdenii', 'Dialister_micraerophilus', 'Corynebacterium_amycolatum', 'Prevotella_bergensis', 'Corynebacterium_jeikeium', 'Enterobacteria_phage_mEpX1', 'Allobaculum_stercoricanis', 'Marvinbryantia_formatexigens', 'Providencia_stuartii', 'Leuconostoc_pseudomesenteroides', 'Prevotella_denticola', 'Lactobacillus_reuteri', 'Lactobacillus_sanfranciscensis', 'Propionibacterium_phage_PAS50', 'Enterobacteria_phage_HK633', 'Corynebacterium_matruchotii', 'Shuttleworthia_satelles', 'Lactobacillus_antri', 'Pseudomonas_alcaligenes', 'Clostridium_phytofermentans', 'Providencia_unclassified', 'Providencia_alcalifaciens', 'Dysgonomonas_gadei', 'Clostridium_sp_MSTE9', 'Escherichia_hermannii', 'Campylobacter_showae']\n"
     ]
    }
   ],
   "source": [
    "t2d = \"/Users/iamkittitat/Desktop/Senior2/Microbiome/Boosting-GraphSAGE/data/1_raw/GDMicro_T2D.csv\"\n",
    "df = pd.read_csv(t2d)\n",
    "column_names = df.columns.tolist()[4:]\n",
    "print(len(column_names))\n",
    "print(column_names)"
   ]
  },
  {
   "cell_type": "code",
   "execution_count": 9,
   "metadata": {},
   "outputs": [
    {
     "data": {
      "text/plain": [
       "215"
      ]
     },
     "execution_count": 9,
     "metadata": {},
     "output_type": "execute_result"
    }
   ],
   "source": [
    "all_genus = {}\n",
    "for col in column_names:\n",
    "    genus = col.split(\"_\")[0]\n",
    "    all_genus[genus] = all_genus.get(genus, 0) + 1\n",
    "len(all_genus)"
   ]
  },
  {
   "cell_type": "code",
   "execution_count": 10,
   "metadata": {},
   "outputs": [
    {
     "data": {
      "text/plain": [
       "{'Bacteroides': 32,\n",
       " 'Clostridium': 32,\n",
       " 'Lactobacillus': 29,\n",
       " 'Streptococcus': 28,\n",
       " 'Prevotella': 15,\n",
       " 'Lachnospiraceae': 15,\n",
       " 'Eubacterium': 14,\n",
       " 'Ruminococcus': 11,\n",
       " 'Actinomyces': 10,\n",
       " 'Alistipes': 9,\n",
       " 'Bifidobacterium': 9,\n",
       " 'Klebsiella': 8,\n",
       " 'Enterococcus': 8,\n",
       " 'Haemophilus': 7,\n",
       " 'Fusobacterium': 7,\n",
       " 'Neisseria': 7,\n",
       " 'Enterobacteria': 7,\n",
       " 'Parabacteroides': 6,\n",
       " 'Veillonella': 6,\n",
       " 'Porphyromonas': 6,\n",
       " 'Leuconostoc': 6,\n",
       " 'Escherichia': 5,\n",
       " 'Enterobacter': 5,\n",
       " 'Campylobacter': 5,\n",
       " 'Erysipelotrichaceae': 5,\n",
       " 'Corynebacterium': 5,\n",
       " 'Collinsella': 4,\n",
       " 'Coprococcus': 4,\n",
       " 'Roseburia': 4,\n",
       " 'Megamonas': 4,\n",
       " 'Gemella': 4,\n",
       " 'Weissella': 4,\n",
       " 'Rothia': 4,\n",
       " 'Atopobium': 4,\n",
       " 'Shigella': 4,\n",
       " 'Olsenella': 4,\n",
       " 'Pseudomonas': 4,\n",
       " 'Peptoniphilus': 4,\n",
       " 'Odoribacter': 3,\n",
       " 'Subdoligranulum': 3,\n",
       " 'Bilophila': 3,\n",
       " 'Dorea': 3,\n",
       " 'Holdemania': 3,\n",
       " 'Anaerostipes': 3,\n",
       " 'Megasphaera': 3,\n",
       " 'Citrobacter': 3,\n",
       " 'Acidaminococcus': 3,\n",
       " 'Coprobacillus': 3,\n",
       " 'Granulicatella': 3,\n",
       " 'Dialister': 3,\n",
       " 'Slackia': 3,\n",
       " 'Blautia': 3,\n",
       " 'Aggregatibacter': 3,\n",
       " 'Peptostreptococcus': 3,\n",
       " 'Paraprevotella': 3,\n",
       " 'Acinetobacter': 3,\n",
       " 'Vibrio': 3,\n",
       " 'Proteus': 3,\n",
       " 'Dysgonomonas': 3,\n",
       " 'Aeromonas': 3,\n",
       " 'Salmonella': 3,\n",
       " 'Anaerococcus': 3,\n",
       " 'Xanthomonas': 3,\n",
       " 'Staphylococcus': 3,\n",
       " 'Providencia': 3,\n",
       " 'Oscillibacter': 2,\n",
       " 'Methanobrevibacter': 2,\n",
       " 'Anaerotruncus': 2,\n",
       " 'Desulfovibrio': 2,\n",
       " 'Mitsuokella': 2,\n",
       " 'Eggerthella': 2,\n",
       " 'Clostridiales': 2,\n",
       " 'Helicobacter': 2,\n",
       " 'Lactococcus': 2,\n",
       " 'Sutterella': 2,\n",
       " 'Coriobacteriaceae': 2,\n",
       " 'Butyrivibrio': 2,\n",
       " 'candidate': 2,\n",
       " 'Alloprevotella': 2,\n",
       " 'Scardovia': 2,\n",
       " 'Parvimonas': 2,\n",
       " 'Turicibacter': 2,\n",
       " 'Propionibacterium': 2,\n",
       " 'Human': 2,\n",
       " 'Bacillus': 2,\n",
       " 'Cronobacter': 2,\n",
       " 'Halomonas': 2,\n",
       " 'Brevibacterium': 2,\n",
       " 'Brachyspira': 2,\n",
       " 'Tomato': 2,\n",
       " 'Pediococcus': 2,\n",
       " 'Pseudoalteromonas': 2,\n",
       " 'Honeysuckle': 2,\n",
       " 'Paracoccus': 2,\n",
       " 'Kocuria': 2,\n",
       " 'Selenomonas': 2,\n",
       " 'Mobiluncus': 2,\n",
       " 'Akkermansia': 1,\n",
       " 'Faecalibacterium': 1,\n",
       " 'Bacteroidales': 1,\n",
       " 'Catenibacterium': 1,\n",
       " 'Butyricimonas': 1,\n",
       " 'Parasutterella': 1,\n",
       " 'Pyramidobacter': 1,\n",
       " 'Adlercreutzia': 1,\n",
       " 'Burkholderiales': 1,\n",
       " 'Peptostreptococcaceae': 1,\n",
       " 'Oxalobacter': 1,\n",
       " 'Flavonifractor': 1,\n",
       " 'Candidatus': 1,\n",
       " 'Coprobacter': 1,\n",
       " 'Ruminococcaceae': 1,\n",
       " 'Clostridiaceae': 1,\n",
       " 'Pseudoflavonifractor': 1,\n",
       " 'Pantoea': 1,\n",
       " 'Burkholderia': 1,\n",
       " 'Actinobacillus': 1,\n",
       " 'Gardnerella': 1,\n",
       " 'Oribacterium': 1,\n",
       " 'Cellulophaga': 1,\n",
       " 'Deinococcus': 1,\n",
       " 'Solobacterium': 1,\n",
       " 'Comamonas': 1,\n",
       " 'Abiotrophia': 1,\n",
       " 'Gordonibacter': 1,\n",
       " 'Barnesiella': 1,\n",
       " 'Plesiomonas': 1,\n",
       " 'Chlorobium': 1,\n",
       " 'Dasheen': 1,\n",
       " 'Alternanthera': 1,\n",
       " 'Lautropia': 1,\n",
       " 'Cellulosilyticum': 1,\n",
       " 'Butyricicoccus': 1,\n",
       " 'Phascolarctobacterium': 1,\n",
       " 'Succinatimonas': 1,\n",
       " 'Anaerofustis': 1,\n",
       " 'Methanosphaera': 1,\n",
       " 'Finegoldia': 1,\n",
       " 'Porcine': 1,\n",
       " 'Enhydrobacter': 1,\n",
       " 'Cupriavidus': 1,\n",
       " 'Bacteroidetes': 1,\n",
       " 'Mycoplasma': 1,\n",
       " 'Chicken': 1,\n",
       " 'Pedobacter': 1,\n",
       " 'Granulicella': 1,\n",
       " 'Yersinia': 1,\n",
       " 'Cetobacterium': 1,\n",
       " 'Anaeroglobus': 1,\n",
       " 'Bartonella': 1,\n",
       " 'Bulleidia': 1,\n",
       " 'Alloscardovia': 1,\n",
       " 'Pyrococcus': 1,\n",
       " 'Thermococcus': 1,\n",
       " 'Morganella': 1,\n",
       " 'Raoultella': 1,\n",
       " 'Brevibacillus': 1,\n",
       " 'Malvastrum': 1,\n",
       " 'Vicia': 1,\n",
       " 'Walleye': 1,\n",
       " 'Parascardovia': 1,\n",
       " 'Pseudoramibacter': 1,\n",
       " 'Cryptobacterium': 1,\n",
       " 'Saccharomyces': 1,\n",
       " 'Emilia': 1,\n",
       " 'Spiribacter': 1,\n",
       " 'Fretibacterium': 1,\n",
       " 'Avian': 1,\n",
       " 'Brachybacterium': 1,\n",
       " 'Meiothermus': 1,\n",
       " 'Eggerthia': 1,\n",
       " 'Sida': 1,\n",
       " 'Synergistes': 1,\n",
       " 'Naumovozyma': 1,\n",
       " 'Serratia': 1,\n",
       " 'Limnohabitans': 1,\n",
       " 'Polaromonas': 1,\n",
       " 'C2likevirus': 1,\n",
       " 'Viunalikevirus': 1,\n",
       " 'Vernonia': 1,\n",
       " 'Sphingopyxis': 1,\n",
       " 'Microlunatus': 1,\n",
       " 'Nocardioides': 1,\n",
       " 'Sphingobium': 1,\n",
       " 'Shinella': 1,\n",
       " 'Pseudoxanthomonas': 1,\n",
       " 'Mesorhizobium': 1,\n",
       " 'Riemerella': 1,\n",
       " 'Variovorax': 1,\n",
       " 'Brevundimonas': 1,\n",
       " 'Sphingobacterium': 1,\n",
       " 'Caulobacter': 1,\n",
       " 'Citromicrobium': 1,\n",
       " 'Leucobacter': 1,\n",
       " 'Rhodanobacter': 1,\n",
       " 'Leifsonia': 1,\n",
       " 'Agromyces': 1,\n",
       " 'Rhodopirellula': 1,\n",
       " 'Enterobacteriaceae': 1,\n",
       " 'Stomatobaculum': 1,\n",
       " 'Lachnoanaerobaculum': 1,\n",
       " 'Leptotrichia': 1,\n",
       " 'Buchnera': 1,\n",
       " 'Chromobacterium': 1,\n",
       " 'Shewanella': 1,\n",
       " 'Tropheryma': 1,\n",
       " 'Rheinheimera': 1,\n",
       " 'Zunongwangia': 1,\n",
       " 'Alicyclobacillus': 1,\n",
       " 'Varibaculum': 1,\n",
       " 'T5likevirus': 1,\n",
       " 'Kingella': 1,\n",
       " 'Allobaculum': 1,\n",
       " 'Marvinbryantia': 1,\n",
       " 'Shuttleworthia': 1}"
      ]
     },
     "execution_count": 10,
     "metadata": {},
     "output_type": "execute_result"
    }
   ],
   "source": [
    "dict(sorted(all_genus.items(), key=lambda item: item[1], reverse=True))"
   ]
  },
  {
   "cell_type": "markdown",
   "metadata": {},
   "source": [
    "# Genus Features"
   ]
  },
  {
   "cell_type": "code",
   "execution_count": 30,
   "metadata": {},
   "outputs": [],
   "source": [
    "import pandas as pd"
   ]
  },
  {
   "cell_type": "code",
   "execution_count": 31,
   "metadata": {},
   "outputs": [
    {
     "name": "stdout",
     "output_type": "stream",
     "text": [
      "608\n",
      "['Eubacterium_rectale', 'Akkermansia_muciniphila', 'Faecalibacterium_prausnitzii', 'Alistipes_indistinctus', 'Alistipes_putredinis', 'Prevotella_copri', 'Bacteroides_ovatus', 'Bacteroides_cellulosilyticus', 'Eubacterium_biforme', 'Bacteroides_stercoris', 'Bifidobacterium_adolescentis', 'Odoribacter_splanchnicus', 'Eubacterium_siraeum', 'Bacteroides_vulgatus', 'Lachnospiraceae_bacterium_1_1_57FAA', 'Parabacteroides_merdae', 'Prevotella_stercorea', 'Bacteroides_caccae', 'Subdoligranulum_unclassified', 'Bacteroides_fragilis', 'Bacteroidales_bacterium_ph8', 'Bilophila_unclassified', 'Ruminococcus_torques', 'Parabacteroides_unclassified', 'Alistipes_onderdonkii', 'Catenibacterium_mitsuokai', 'Oscillibacter_unclassified', 'Butyricimonas_synergistica', 'Bacteroides_thetaiotaomicron', 'Collinsella_aerofaciens', 'Bacteroides_massiliensis', 'Alistipes_sp_AP11', 'Parasutterella_excrementihominis', 'Ruminococcus_obeum', 'Bifidobacterium_bifidum', 'Dorea_formicigenerans', 'Alistipes_shahii', 'Alistipes_finegoldii', 'Oscillibacter_sp_KLE_1745', 'Bacteroides_uniformis', 'Coprococcus_comes', 'Bacteroides_xylanisolvens', 'Methanobrevibacter_smithii', 'Streptococcus_salivarius', 'Eubacterium_hallii', 'Escherichia_coli', 'Bacteroides_nordii', 'Parabacteroides_goldsteinii', 'Coprococcus_catus', 'Bifidobacterium_longum', 'Dorea_longicatena', 'Anaerotruncus_unclassified', 'Bacteroides_faecis', 'Bilophila_wadsworthia', 'Alistipes_senegalensis', 'Desulfovibrio_desulfuricans', 'Clostridium_leptum', 'Eubacterium_ramulus', 'Eubacterium_eligens', 'Pyramidobacter_piscolens', 'Bacteroides_intestinalis', 'Bifidobacterium_pseudocatenulatum', 'Adlercreutzia_equolifaciens', 'Lachnospiraceae_bacterium_5_1_63FAA', 'Roseburia_hominis', 'Roseburia_inulinivorans', 'Lachnospiraceae_bacterium_3_1_46FAA', 'Holdemania_filiformis', 'Anaerotruncus_colihominis', 'Lachnospiraceae_bacterium_7_1_58FAA', 'Anaerostipes_hadrus', 'Roseburia_unclassified', 'Burkholderiales_bacterium_1_1_47', 'Megasphaera_unclassified', 'Streptococcus_parasanguinis', 'Parabacteroides_distasonis', 'Ruminococcus_flavefaciens', 'Peptostreptococcaceae_noname_unclassified', 'Ruminococcus_gnavus', 'Dorea_unclassified', 'Clostridium_asparagiforme', 'Lachnospiraceae_bacterium_3_1_57FAA_CT1', 'Clostridium_citroniae', 'Oxalobacter_formigenes', 'Escherichia_unclassified', 'Klebsiella_pneumoniae', 'Mitsuokella_unclassified', 'Clostridium_innocuum', 'Haemophilus_parainfluenzae', 'Clostridium_bolteae', 'Flavonifractor_plautii', 'Eubacterium_ventriosum', 'Streptococcus_infantis', 'Ruminococcus_albus', 'Clostridium_symbiosum', 'Ruminococcus_bromii', 'Veillonella_unclassified', 'Bifidobacterium_catenulatum', 'Clostridium_hathewayi', 'Eggerthella_unclassified', 'Bacteroides_plebeius', 'Streptococcus_australis', 'Bacteroides_oleiciplenus', 'Bacteroides_eggerthii', 'Clostridium_bartlettii', 'Subdoligranulum_variabile', 'Candidatus_Zinderia_insecticola', 'Megamonas_unclassified', 'Bacteroides_coprophilus', 'Megamonas_hypermegale', 'Megamonas_rupellensis', 'Bacteroides_finegoldii', 'Roseburia_intestinalis', 'Ruminococcus_lactaris', 'Megamonas_funiformis', 'Coprobacter_fastidiosus', 'Ruminococcus_sp_5_1_39BFAA', 'Desulfovibrio_piger', 'Methanobrevibacter_unclassified', 'Bacteroides_dorei', 'Citrobacter_freundii', 'Ruminococcaceae_bacterium_D16', 'Clostridiaceae_bacterium_JC118', 'Citrobacter_unclassified', 'Veillonella_parvula', 'Clostridiales_bacterium_1_7_47FAA', 'Acidaminococcus_intestini', 'Streptococcus_vestibularis', 'Parabacteroides_johnsonii', 'Enterobacter_cloacae', 'Streptococcus_mitis_oralis_pneumoniae', 'Pseudoflavonifractor_capillosus', 'Gemella_unclassified', 'Lachnospiraceae_bacterium_2_1_58FAA', 'Streptococcus_anginosus', 'Veillonella_dispar', 'Coprococcus_eutactus', 'Veillonella_atypica', 'Bacteroides_salyersiae', 'Streptococcus_infantarius', 'Coprobacillus_sp_29_1', 'Bacteroides_coprocola', 'Weissella_unclassified', 'Weissella_confusa', 'Bacteroides_clarus', 'Ruminococcus_callidus', 'Pantoea_unclassified', 'Streptococcus_thermophilus', 'Granulicatella_unclassified', 'Dialister_invisus', 'Helicobacter_pullorum', 'Streptococcus_tigurinus', 'Weissella_cibaria', 'Lactococcus_lactis', 'Streptococcus_gordonii', 'Burkholderia_unclassified', 'Streptococcus_cristatus', 'Lactococcus_garvieae', 'Rothia_mucilaginosa', 'Lactobacillus_plantarum', 'Gemella_sanguinis', 'Escherichia_fergusonii', 'Actinobacillus_unclassified', 'Lactobacillus_brevis', 'Granulicatella_adiacens', 'Slackia_piriformis', 'Atopobium_parvulum', 'Bifidobacterium_dentium', 'Campylobacter_gracilis', 'Gemella_morbillorum', 'Clostridium_ramosum', 'Gardnerella_vaginalis', 'Gemella_haemolysans', 'Rothia_unclassified', 'Klebsiella_variicola', 'Oribacterium_sinus', 'Streptococcus_sanguinis', 'Dialister_succinatiphilus', 'Klebsiella_oxytoca', 'Enterobacter_aerogenes', 'Bacteroides_sp_3_1_19', 'Fusobacterium_mortiferum', 'Sutterella_wadsworthensis', 'Collinsella_tanakaei', 'Neisseria_unclassified', 'Lachnospiraceae_bacterium_1_4_56FAA', 'Coriobacteriaceae_bacterium_phI', 'Cellulophaga_unclassified', 'Coprobacillus_unclassified', 'Deinococcus_unclassified', 'Solobacterium_moorei', 'Lachnospiraceae_bacterium_9_1_43BFAA', 'Comamonas_unclassified', 'Lachnospiraceae_bacterium_6_1_63FAA', 'Abiotrophia_defectiva', 'Gordonibacter_pamelaeae', 'Clostridium_sp_ATCC_BAA_442', 'Subdoligranulum_sp_4_3_54A2FAA', 'Clostridium_hiranonis', 'Barnesiella_intestinihominis', 'Holdemania_unclassified', 'Butyrivibrio_unclassified', 'Prevotella_buccalis', 'Porphyromonas_bennonis', 'Campylobacter_hominis', 'candidate_division_TM7_single_cell_isolate_TM7c', 'Erysipelotrichaceae_bacterium_6_1_45', 'Erysipelotrichaceae_bacterium_21_3', 'Alloprevotella_unclassified', 'candidate_division_TM7_single_cell_isolate_TM7b', 'Eubacterium_limosum', 'Porphyromonas_asaccharolytica', 'Clostridium_sp_L2_50', 'Alistipes_unclassified', 'Odoribacter_unclassified', 'Mitsuokella_multacida', 'Acidaminococcus_fermentans', 'Lachnospiraceae_bacterium_5_1_57FAA', 'Eggerthella_lenta', 'Eubacterium_dolichum', 'Clostridium_clostridioforme', 'Shigella_flexneri', 'Scardovia_unclassified', 'Bifidobacterium_breve', 'Fusobacterium_varium', 'Olsenella_unclassified', 'Scardovia_wiggsiae', 'Eubacterium_sp_3_1_31', 'Enterobacteria_phage_HK544', 'Enterococcus_faecalis', 'Fusobacterium_ulcerans', 'Erysipelotrichaceae_bacterium_5_2_54FAA', 'Klebsiella_unclassified', 'Megasphaera_micronuciformis', 'Pseudomonas_unclassified', 'Blautia_producta', 'Clostridium_hylemonae', 'Plesiomonas_shigelloides', 'Prevotella_bivia', 'Anaerostipes_unclassified', 'Chlorobium_phaeobacteroides', 'Fusobacterium_periodonticum', 'Erysipelotrichaceae_bacterium_2_2_44A', 'Clostridium_scindens', 'Collinsella_intestinalis', 'Clostridium_nexile', 'Streptococcus_gallolyticus', 'Collinsella_unclassified', 'Lachnospiraceae_bacterium_4_1_37FAA', 'Blautia_hansenii', 'Parvimonas_unclassified', 'Eubacterium_brachy', 'Eubacterium_infirmum', 'Acidaminococcus_unclassified', 'Lachnospiraceae_bacterium_8_1_57FAA', 'Dasheen_mosaic_virus', 'Leuconostoc_lactis', 'Enterococcus_faecium', 'Alternanthera_yellow_vein_betasatellite', 'Clostridium_celatum', 'Streptococcus_macedonicus', 'Actinomyces_odontolyticus', 'Actinomyces_graevenitzii', 'Atopobium_rimae', 'Granulicatella_elegans', 'Erysipelotrichaceae_bacterium_3_1_53', 'Turicibacter_sanguinis', 'Streptococcus_lutetiensis', 'Coprococcus_sp_ART55_1', 'Clostridium_perfringens', 'Clostridium_sordellii', 'Lactobacillus_fermentum', 'Haemophilus_haemolyticus', 'Klebsiella_phage_JD001', 'Enterobacteria_phage_HK97', 'Haemophilus_paraphrohaemolyticus', 'Turicibacter_unclassified', 'Aggregatibacter_segnis', 'Lactobacillus_crispatus', 'Haemophilus_sputorum', 'Fusobacterium_nucleatum', 'Aggregatibacter_aphrophilus', 'Peptostreptococcus_unclassified', 'Neisseria_sicca', 'Streptococcus_oligofermentans', 'Neisseria_macacae', 'Peptostreptococcus_stomatis', 'Propionibacterium_propionicum', 'Lautropia_mirabilis', 'Cellulosilyticum_lentocellum', 'Streptococcus_pasteurianus', 'Clostridium_butyricum', 'Megasphaera_elsdenii', 'Paraprevotella_unclassified', 'Paraprevotella_clara', 'Paraprevotella_xylaniphila', 'Blautia_hydrogenotrophica', 'Butyricicoccus_pullicaecorum', 'Clostridium_difficile', 'Phascolarctobacterium_succinatutens', 'Succinatimonas_hippei', 'Human_adenovirus_D', 'Bacteroides_barnesiae', 'Bacteroides_sp_2_1_22', 'Coprobacillus_sp_D6', 'Holdemania_sp_AP2', 'Bacteroides_fluxus', 'Anaerofustis_stercorihominis', 'Anaerostipes_caccae', 'Ruminococcus_champanellensis', 'Methanosphaera_stadtmanae', 'Finegoldia_magna', 'Porphyromonas_uenonis', 'Lactobacillus_ruminis', 'Bacillus_cereus_thuringiensis', 'Shigella_sonnei', 'Leuconostoc_unclassified', 'Cronobacter_sakazakii', 'Porcine_type_C_oncovirus', 'Lachnospiraceae_bacterium_2_1_46FAA', 'Bifidobacterium_animalis', 'Enhydrobacter_aerosaccus', 'Lactobacillus_salivarius', 'Acinetobacter_unclassified', 'Lactobacillus_mucosae', 'Acinetobacter_junii', 'Acinetobacter_parvus', 'Cupriavidus_unclassified', 'Streptococcus_pseudopneumoniae', 'Bacteroidetes_oral_taxon_274', 'Alistipes_sp_HGB5', 'Enterobacter_hormaechei', 'Streptococcus_mutans', 'Vibrio_phage_pYD38_A', 'Prevotella_timonensis', 'Mycoplasma_bovis', 'Klebsiella_sp_MS_92_3', 'Chicken_anemia_virus', 'Enterococcus_asini', 'Prevotella_melaninogenica', 'Prevotella_histicola', 'Butyrivibrio_crossotus', 'Pedobacter_unclassified', 'Granulicella_unclassified', 'Yersinia_unclassified', 'Bacteroides_sp_4_3_47FAA', 'Eubacterium_cylindroides', 'Prevotella_disiens', 'Leuconostoc_citreum', 'Shigella_phage_Sf6', 'Enterococcus_avium', 'Citrobacter_koseri', 'Halomonas_unclassified', 'Clostridium_sp_KLE_1755', 'Cetobacterium_somerae', 'Proteus_unclassified', 'Proteus_penneri', 'Proteus_mirabilis', 'Aggregatibacter_unclassified', 'Neisseria_elongata', 'Lactobacillus_delbrueckii', 'Corynebacterium_durum', 'Lactobacillus_farciminis', 'Prevotella_buccae', 'Enterococcus_raffinosus', 'Clostridium_methylpentosum', 'Lactobacillus_casei_paracasei', 'Atopobium_vaginae', 'Dysgonomonas_mossii', 'Enterobacteria_phage_mEp237', 'Prevotella_oralis', 'Olsenella_uli', 'Lactobacillus_phage_PL_1', 'Anaeroglobus_geminatus', 'Streptococcus_agalactiae', 'Lactobacillus_vaginalis', 'Lactobacillus_gasseri', 'Aeromonas_veronii', 'Sutterella_parvirubra', 'Bartonella_unclassified', 'Eubacterium_saphenum', 'Brevibacterium_unclassified', 'Cronobacter_malonaticus', 'Lactobacillus_curvatus', 'Lactobacillus_acidophilus', 'Lactobacillus_amylovorus', 'Bulleidia_extructa', 'Streptococcus_intermedius', 'Fusobacterium_necrophorum', 'Actinomyces_turicensis', 'Streptococcus_dysgalactiae', 'Prevotella_amnii', 'Lactobacillus_saerimneri', 'Alloscardovia_omnicolens', 'Brachyspira_unclassified', 'Bilophila_sp_4_1_30', 'Klebsiella_phage_KP36', 'Clostridium_sp_D5', 'Klebsiella_phage_KP34', 'Tomato_yellow_leaf_curl_China_betasatellite', 'Streptococcus_pyogenes', 'Pyrococcus_yayanosii', 'Thermococcus_unclassified', 'Bacteroides_sp_3_1_40A', 'Aeromonas_hydrophila', 'Pseudomonas_aeruginosa', 'Aeromonas_unclassified', 'Campylobacter_concisus', 'Streptococcus_constellatus', 'Lachnospiraceae_bacterium_ICM7', 'Morganella_morganii', 'Enterobacter_asburiae', 'Raoultella_ornithinolytica', 'Enterobacter_mori', 'Brevibacillus_borstelensis', 'Bacteroides_pectinophilus', 'Salmonella_phage_Vi_II_E1', 'Malvastrum_leaf_curl_Philippines_betasatellite', 'Vicia_cryptic_virus', 'Walleye_dermal_sarcoma_virus', 'Lactobacillus_oris', 'Parascardovia_denticolens', 'Rothia_dentocariosa', 'Clostridium_glycolicum', 'Pseudoramibacter_alactolyticus', 'Slackia_unclassified', 'Enterococcus_pallens', 'Enterococcus_casseliflavus', 'Enterococcus_gallinarum', 'Actinomyces_viscosus', 'Peptoniphilus_lacrimalis', 'Lactobacillus_equicursoris', 'Cryptobacterium_curtum', 'Lactobacillus_rhamnosus', 'Odoribacter_laneus', 'Saccharomyces_cerevisiae', 'Emilia_yellow_vein_virus_associated_DNA_beta', 'Enterobacteria_phage_PsP3', 'Streptococcus_parauberis', 'Neisseria_flavescens', 'Spiribacter_unclassified', 'Pediococcus_unclassified', 'Parvimonas_micra', 'Tomato_yellow_leaf_curl_Vietnam_virus_satellite_DNA_beta', 'Lactobacillus_johnsonii', 'Parabacteroides_sp_20_3', 'Bacteroides_gallinarum', 'Actinomyces_cardiffensis', 'Porphyromonas_gingivalis', 'Fretibacterium_fastidiosum', 'Avian_endogenous_retrovirus_EAV_HP', 'Human_herpesvirus_4', 'Leuconostoc_mesenteroides', 'Pseudoalteromonas_haloplanktis', 'Porphyromonas_somerae', 'Peptostreptococcus_anaerobius', 'Anaerococcus_vaginalis', 'Anaerococcus_lactolyticus', 'Brachybacterium_unclassified', 'Meiothermus_silvanus', 'Lactobacillus_phage_Lc_Nu', 'Lactobacillus_iners', 'Lactobacillus_helveticus', 'Ruminococcus_sp_JC304', 'Pseudoalteromonas_undina', 'Streptococcus_peroris', 'Eggerthia_catenaformis', 'Sida_yellow_vein_virus_satellite_DNA_beta', 'Synergistes_sp_3_1_syn1', 'Peptoniphilus_harei', 'Anaerococcus_obesiensis', 'Clostridium_sp_7_2_43FAA', 'Bifidobacterium_pseudolongum', 'Honeysuckle_yellow_vein_betasatellite', 'Naumovozyma_unclassified', 'Serratia_marcescens', 'Atopobium_minutum', 'Dysgonomonas_unclassified', 'Limnohabitans_unclassified', 'Polaromonas_unclassified', 'Clostridiales_genomosp_BVAB3', 'C2likevirus_unclassified', 'Halomonas_boliviensis', 'Xanthomonas_axonopodis', 'Xanthomonas_fuscans', 'Xanthomonas_citri', 'Viunalikevirus_unclassified', 'Helicobacter_pylori', 'Neisseria_subflava', 'Neisseria_meningitidis', 'Brachyspira_pilosicoli', 'Honeysuckle_yellow_vein_mosaic_disease_associated_satellite_DNA_beta', 'Escherichia_albertii', 'Vernonia_yellow_vein_Fujian_virus_betasatellite', 'Clostridium_spiroforme', 'Slackia_exigua', 'Sphingopyxis_unclassified', 'Microlunatus_phosphovorus', 'Nocardioides_unclassified', 'Paracoccus_unclassified', 'Kocuria_unclassified', 'Sphingobium_unclassified', 'Paracoccus_denitrificans', 'Shinella_zoogloeoides', 'Pseudoxanthomonas_unclassified', 'Mesorhizobium_unclassified', 'Riemerella_unclassified', 'Variovorax_unclassified', 'Brevundimonas_unclassified', 'Sphingobacterium_unclassified', 'Caulobacter_unclassified', 'Kocuria_rhizophila', 'Citromicrobium_unclassified', 'Leucobacter_unclassified', 'Rhodanobacter_unclassified', 'Haemophilus_pittmaniae', 'Leifsonia_unclassified', 'Agromyces_unclassified', 'Actinomyces_oris', 'Brevibacterium_casei', 'Bacillus_phage_phiNIT1', 'Enterobacteria_phage_SfV', 'Pseudomonas_fragi', 'Rhodopirellula_unclassified', 'Enterobacteriaceae_bacterium_9_2_54FAA', 'Bacteroides_sp_3_2_5', 'Veillonella_sp_3_1_44', 'Staphylococcus_aureus', 'Streptococcus_sobrinus', 'Stomatobaculum_longum', 'Rothia_aeria', 'Lachnospiraceae_bacterium_oral_taxon_082', 'Actinomyces_johnsonii', 'Clostridium_bifermentans', 'Actinomyces_naeslundii', 'Selenomonas_noxia', 'Actinomyces_massiliensis', 'Staphylococcus_xylosus', 'Selenomonas_flueggei', 'Weissella_paramesenteroides', 'Lachnoanaerobaculum_saburreum', 'Leptotrichia_unclassified', 'Alloprevotella_tannerae', 'Buchnera_aphidicola', 'Porphyromonas_endodontalis', 'Chromobacterium_unclassified', 'Clostridium_phage_phiCP26F', 'Clostridium_phage_phiCP39_O', 'Salmonella_phage_HK620', 'Leuconostoc_kimchii', 'Haemophilus_parahaemolyticus', 'Shewanella_unclassified', 'Haemophilus_influenzae', 'Pediococcus_pentosaceus', 'Tropheryma_whipplei', 'Vibrio_furnissii', 'Rheinheimera_unclassified', 'Zunongwangia_profunda', 'Alicyclobacillus_pohliae', 'Vibrio_kanaloae', 'Fusobacterium_gonidiaformans', 'Varibaculum_cambriense', 'Campylobacter_ureolyticus', 'Lactobacillus_pentosus', 'Shigella_phage_pSf_1', 'Olsenella_sp_oral_taxon_809', 'Lactobacillus_phage_Lrm1', 'T5likevirus_unclassified', 'Bacteroides_sp_2_1_56FAA', 'Veillonella_ratti', 'Salmonella_phage_SSU5', 'Actinomyces_sp_ICM47', 'Staphylococcus_phage_PVL', 'Kingella_unclassified', 'Olsenella_profusa', 'Prevotella_oris', 'Prevotella_salivae', 'Peptoniphilus_sp_oral_taxon_836', 'Coriobacteriaceae_bacterium_BV3Ac1', 'Mobiluncus_unclassified', 'Corynebacterium_aurimucosum', 'Mobiluncus_curtisii', 'Peptoniphilus_duerdenii', 'Dialister_micraerophilus', 'Corynebacterium_amycolatum', 'Prevotella_bergensis', 'Corynebacterium_jeikeium', 'Enterobacteria_phage_mEpX1', 'Allobaculum_stercoricanis', 'Marvinbryantia_formatexigens', 'Providencia_stuartii', 'Leuconostoc_pseudomesenteroides', 'Prevotella_denticola', 'Lactobacillus_reuteri', 'Lactobacillus_sanfranciscensis', 'Propionibacterium_phage_PAS50', 'Enterobacteria_phage_HK633', 'Corynebacterium_matruchotii', 'Shuttleworthia_satelles', 'Lactobacillus_antri', 'Pseudomonas_alcaligenes', 'Clostridium_phytofermentans', 'Providencia_unclassified', 'Providencia_alcalifaciens', 'Dysgonomonas_gadei', 'Clostridium_sp_MSTE9', 'Escherichia_hermannii', 'Campylobacter_showae']\n"
     ]
    }
   ],
   "source": [
    "t2d = \"/Users/iamkittitat/Desktop/Senior2/Microbiome/Boosting-GraphSAGE/data/0_raw/GDMicro_T2D.csv\"\n",
    "df = pd.read_csv(t2d)\n",
    "column_names = df.columns.tolist()[4:]\n",
    "print(len(column_names))\n",
    "print(column_names)"
   ]
  },
  {
   "cell_type": "code",
   "execution_count": 32,
   "metadata": {},
   "outputs": [
    {
     "data": {
      "text/plain": [
       "215"
      ]
     },
     "execution_count": 32,
     "metadata": {},
     "output_type": "execute_result"
    }
   ],
   "source": [
    "all_genus = set()\n",
    "for col in column_names:\n",
    "    genus = col.split(\"_\")[0]\n",
    "    all_genus.add(genus)\n",
    "len(all_genus)"
   ]
  },
  {
   "cell_type": "code",
   "execution_count": 33,
   "metadata": {},
   "outputs": [],
   "source": [
    "new_columns = []\n",
    "\n",
    "for prefix in all_genus:\n",
    "    new_columns.append(\n",
    "        df.filter(regex=f'^{prefix}')\n",
    "        .apply(lambda row: (row > 0).sum(), axis=1)\n",
    "        .rename(f'count_{prefix}')\n",
    "    )\n",
    "\n",
    "df = pd.concat([df] + new_columns, axis=1)\n"
   ]
  },
  {
   "cell_type": "code",
   "execution_count": 34,
   "metadata": {},
   "outputs": [
    {
     "data": {
      "text/plain": [
       "827"
      ]
     },
     "execution_count": 34,
     "metadata": {},
     "output_type": "execute_result"
    }
   ],
   "source": [
    "len(list(df.columns))"
   ]
  },
  {
   "cell_type": "code",
   "execution_count": 35,
   "metadata": {},
   "outputs": [],
   "source": [
    "df.to_csv('/Users/iamkittitat/Desktop/Senior2/Microbiome/Boosting-GraphSAGE/data/1_feature_engineering/GDmicro_T2D_genus.csv', index=False)"
   ]
  },
  {
   "cell_type": "code",
   "execution_count": null,
   "metadata": {},
   "outputs": [],
   "source": []
  }
 ],
 "metadata": {
  "kernelspec": {
   "display_name": "DSDE",
   "language": "python",
   "name": "python3"
  },
  "language_info": {
   "codemirror_mode": {
    "name": "ipython",
    "version": 3
   },
   "file_extension": ".py",
   "mimetype": "text/x-python",
   "name": "python",
   "nbconvert_exporter": "python",
   "pygments_lexer": "ipython3",
   "version": "3.9.19"
  }
 },
 "nbformat": 4,
 "nbformat_minor": 2
}
